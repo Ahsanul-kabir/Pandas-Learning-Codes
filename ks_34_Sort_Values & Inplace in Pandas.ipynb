{
 "cells": [
  {
   "cell_type": "code",
   "execution_count": 1,
   "metadata": {},
   "outputs": [
    {
     "data": {
      "text/html": [
       "<div>\n",
       "<style scoped>\n",
       "    .dataframe tbody tr th:only-of-type {\n",
       "        vertical-align: middle;\n",
       "    }\n",
       "\n",
       "    .dataframe tbody tr th {\n",
       "        vertical-align: top;\n",
       "    }\n",
       "\n",
       "    .dataframe thead th {\n",
       "        text-align: right;\n",
       "    }\n",
       "</style>\n",
       "<table border=\"1\" class=\"dataframe\">\n",
       "  <thead>\n",
       "    <tr style=\"text-align: right;\">\n",
       "      <th></th>\n",
       "      <th>year</th>\n",
       "      <th>industry_code_ANZSIC</th>\n",
       "      <th>industry_name_ANZSIC</th>\n",
       "      <th>rme_size_grp</th>\n",
       "      <th>variable</th>\n",
       "      <th>value</th>\n",
       "      <th>unit</th>\n",
       "    </tr>\n",
       "  </thead>\n",
       "  <tbody>\n",
       "    <tr>\n",
       "      <th>0</th>\n",
       "      <td>2011</td>\n",
       "      <td>A</td>\n",
       "      <td>Agriculture, Forestry and Fishing</td>\n",
       "      <td>a_0</td>\n",
       "      <td>Activity unit</td>\n",
       "      <td>46134</td>\n",
       "      <td>COUNT</td>\n",
       "    </tr>\n",
       "    <tr>\n",
       "      <th>1</th>\n",
       "      <td>2011</td>\n",
       "      <td>A</td>\n",
       "      <td>Agriculture, Forestry and Fishing</td>\n",
       "      <td>a_0</td>\n",
       "      <td>Rolling mean employees</td>\n",
       "      <td>0</td>\n",
       "      <td>COUNT</td>\n",
       "    </tr>\n",
       "    <tr>\n",
       "      <th>2</th>\n",
       "      <td>2011</td>\n",
       "      <td>A</td>\n",
       "      <td>Agriculture, Forestry and Fishing</td>\n",
       "      <td>a_0</td>\n",
       "      <td>Salaries and wages paid</td>\n",
       "      <td>279</td>\n",
       "      <td>DOLLARS(millions)</td>\n",
       "    </tr>\n",
       "    <tr>\n",
       "      <th>3</th>\n",
       "      <td>2011</td>\n",
       "      <td>A</td>\n",
       "      <td>Agriculture, Forestry and Fishing</td>\n",
       "      <td>a_0</td>\n",
       "      <td>Sales, government funding, grants and subsidies</td>\n",
       "      <td>8187</td>\n",
       "      <td>DOLLARS(millions)</td>\n",
       "    </tr>\n",
       "    <tr>\n",
       "      <th>4</th>\n",
       "      <td>2011</td>\n",
       "      <td>A</td>\n",
       "      <td>Agriculture, Forestry and Fishing</td>\n",
       "      <td>a_0</td>\n",
       "      <td>Total income</td>\n",
       "      <td>8866</td>\n",
       "      <td>DOLLARS(millions)</td>\n",
       "    </tr>\n",
       "  </tbody>\n",
       "</table>\n",
       "</div>"
      ],
      "text/plain": [
       "   year industry_code_ANZSIC               industry_name_ANZSIC rme_size_grp  \\\n",
       "0  2011                    A  Agriculture, Forestry and Fishing          a_0   \n",
       "1  2011                    A  Agriculture, Forestry and Fishing          a_0   \n",
       "2  2011                    A  Agriculture, Forestry and Fishing          a_0   \n",
       "3  2011                    A  Agriculture, Forestry and Fishing          a_0   \n",
       "4  2011                    A  Agriculture, Forestry and Fishing          a_0   \n",
       "\n",
       "                                          variable  value               unit  \n",
       "0                                    Activity unit  46134              COUNT  \n",
       "1                           Rolling mean employees      0              COUNT  \n",
       "2                          Salaries and wages paid    279  DOLLARS(millions)  \n",
       "3  Sales, government funding, grants and subsidies   8187  DOLLARS(millions)  \n",
       "4                                     Total income   8866  DOLLARS(millions)  "
      ]
     },
     "execution_count": 1,
     "metadata": {},
     "output_type": "execute_result"
    }
   ],
   "source": [
    "import pandas as pd\n",
    "\n",
    "dataset = pd.read_csv(\"survey-2018-financial-year-provisional.csv\") \n",
    "dataset.head()                                                 "
   ]
  },
  {
   "cell_type": "code",
   "execution_count": 2,
   "metadata": {},
   "outputs": [
    {
     "data": {
      "text/plain": [
       "0                                          Activity unit\n",
       "1                                 Rolling mean employees\n",
       "2                                Salaries and wages paid\n",
       "3        Sales, government funding, grants and subsidies\n",
       "4                                           Total income\n",
       "                              ...                       \n",
       "12379                                       Total income\n",
       "12380                                  Total expenditure\n",
       "12381                        Operating profit before tax\n",
       "12382                                       Total assets\n",
       "12383                              Fixed tangible assets\n",
       "Name: variable, Length: 12384, dtype: object"
      ]
     },
     "execution_count": 2,
     "metadata": {},
     "output_type": "execute_result"
    }
   ],
   "source": [
    "import pandas as pd \n",
    "\n",
    "variable =pd.read_csv(\"survey-2018-financial-year-provisional.csv\",squeeze = True,usecols=['variable'])\n",
    "\n",
    "variable    "
   ]
  },
  {
   "cell_type": "code",
   "execution_count": 3,
   "metadata": {},
   "outputs": [
    {
     "data": {
      "text/plain": [
       "0       Activity unit\n",
       "6678    Activity unit\n",
       "6687    Activity unit\n",
       "1422    Activity unit\n",
       "6696    Activity unit\n",
       "            ...      \n",
       "3640     Total income\n",
       "9211     Total income\n",
       "9220     Total income\n",
       "859      Total income\n",
       "7429     Total income\n",
       "Name: variable, Length: 12384, dtype: object"
      ]
     },
     "execution_count": 3,
     "metadata": {},
     "output_type": "execute_result"
    }
   ],
   "source": [
    "import pandas as pd \n",
    "\n",
    "variable = pd.read_csv(\"survey-2018-financial-year-provisional.csv\",squeeze = True,usecols=['variable'])\n",
    "\n",
    "variable.sort_values()    "
   ]
  },
  {
   "cell_type": "code",
   "execution_count": 4,
   "metadata": {},
   "outputs": [
    {
     "data": {
      "text/plain": [
       "0       Activity unit\n",
       "6678    Activity unit\n",
       "6687    Activity unit\n",
       "1422    Activity unit\n",
       "6696    Activity unit\n",
       "6705    Activity unit\n",
       "6714    Activity unit\n",
       "6723    Activity unit\n",
       "1413    Activity unit\n",
       "6732    Activity unit\n",
       "Name: variable, dtype: object"
      ]
     },
     "execution_count": 4,
     "metadata": {},
     "output_type": "execute_result"
    }
   ],
   "source": [
    "import pandas as pd \n",
    "\n",
    "variable =pd.read_csv(\"survey-2018-financial-year-provisional.csv\",squeeze = True,usecols=['variable'])\n",
    "\n",
    "variable.sort_values().head(10)    \n"
   ]
  },
  {
   "cell_type": "code",
   "execution_count": 5,
   "metadata": {},
   "outputs": [
    {
     "data": {
      "text/plain": [
       "0       Activity unit\n",
       "6678    Activity unit\n",
       "6687    Activity unit\n",
       "1422    Activity unit\n",
       "6696    Activity unit\n",
       "            ...      \n",
       "3640     Total income\n",
       "9211     Total income\n",
       "9220     Total income\n",
       "859      Total income\n",
       "7429     Total income\n",
       "Name: variable, Length: 12384, dtype: object"
      ]
     },
     "execution_count": 5,
     "metadata": {},
     "output_type": "execute_result"
    }
   ],
   "source": [
    "import pandas as pd \n",
    "\n",
    "variable =pd.read_csv(\"survey-2018-financial-year-provisional.csv\",squeeze = True,usecols=['variable'])\n",
    "\n",
    "variable.sort_values(ascending=True)  # default"
   ]
  },
  {
   "cell_type": "code",
   "execution_count": 6,
   "metadata": {},
   "outputs": [
    {
     "data": {
      "text/plain": [
       "7429     Total income\n",
       "859      Total income\n",
       "9220     Total income\n",
       "9211     Total income\n",
       "3640     Total income\n",
       "            ...      \n",
       "6696    Activity unit\n",
       "1422    Activity unit\n",
       "6687    Activity unit\n",
       "6678    Activity unit\n",
       "0       Activity unit\n",
       "Name: variable, Length: 12384, dtype: object"
      ]
     },
     "execution_count": 6,
     "metadata": {},
     "output_type": "execute_result"
    }
   ],
   "source": [
    "import pandas as pd \n",
    "\n",
    "variable =pd.read_csv(\"survey-2018-financial-year-provisional.csv\",squeeze = True,usecols=['variable'])\n",
    "\n",
    "variable.sort_values(ascending=False)   # Descending Order"
   ]
  },
  {
   "cell_type": "code",
   "execution_count": 7,
   "metadata": {},
   "outputs": [
    {
     "data": {
      "text/plain": [
       "6732    Activity unit\n",
       "1413    Activity unit\n",
       "6723    Activity unit\n",
       "6714    Activity unit\n",
       "6705    Activity unit\n",
       "6696    Activity unit\n",
       "1422    Activity unit\n",
       "6687    Activity unit\n",
       "6678    Activity unit\n",
       "0       Activity unit\n",
       "Name: variable, dtype: object"
      ]
     },
     "execution_count": 7,
     "metadata": {},
     "output_type": "execute_result"
    }
   ],
   "source": [
    "import pandas as pd \n",
    "\n",
    "variable =pd.read_csv(\"survey-2018-financial-year-provisional.csv\",squeeze = True,usecols=['variable'])\n",
    "\n",
    "variable.sort_values(ascending=False).tail(10)"
   ]
  },
  {
   "cell_type": "code",
   "execution_count": 8,
   "metadata": {},
   "outputs": [
    {
     "data": {
      "text/plain": [
       "7429    Total income\n",
       "859     Total income\n",
       "9220    Total income\n",
       "9211    Total income\n",
       "3640    Total income\n",
       "9202    Total income\n",
       "796     Total income\n",
       "2182    Total income\n",
       "9193    Total income\n",
       "9184    Total income\n",
       "Name: variable, dtype: object"
      ]
     },
     "execution_count": 8,
     "metadata": {},
     "output_type": "execute_result"
    }
   ],
   "source": [
    "import pandas as pd \n",
    "\n",
    "variable =pd.read_csv(\"survey-2018-financial-year-provisional.csv\",squeeze = True,usecols=['variable'])\n",
    "\n",
    "variable.sort_values(ascending=False).head(10)"
   ]
  },
  {
   "cell_type": "code",
   "execution_count": 9,
   "metadata": {},
   "outputs": [
    {
     "data": {
      "text/plain": [
       "0          46134\n",
       "1              0\n",
       "2            279\n",
       "3           8187\n",
       "4           8866\n",
       "          ...   \n",
       "12379     691859\n",
       "12380     597623\n",
       "12381      85574\n",
       "12382    2068648\n",
       "12383     499274\n",
       "Name: value, Length: 12384, dtype: object"
      ]
     },
     "execution_count": 9,
     "metadata": {},
     "output_type": "execute_result"
    }
   ],
   "source": [
    "import pandas as pd \n",
    "\n",
    "value = pd.read_csv(\"survey-2018-financial-year-provisional.csv\",squeeze = True,usecols=['value'])\n",
    "\n",
    "value\n",
    "# value.head(10)\n"
   ]
  },
  {
   "cell_type": "code",
   "execution_count": 10,
   "metadata": {},
   "outputs": [
    {
     "data": {
      "text/plain": [
       "0    46134\n",
       "1        0\n",
       "2      279\n",
       "3     8187\n",
       "4     8866\n",
       "Name: value, dtype: object"
      ]
     },
     "execution_count": 10,
     "metadata": {},
     "output_type": "execute_result"
    }
   ],
   "source": [
    "import pandas as pd \n",
    "\n",
    "value = pd.read_csv(\"survey-2018-financial-year-provisional.csv\",squeeze = True,usecols=['value'])\n",
    "\n",
    "value.head()\n"
   ]
  },
  {
   "cell_type": "code",
   "execution_count": 11,
   "metadata": {},
   "outputs": [
    {
     "data": {
      "text/plain": [
       "8925     -1\n",
       "12102    -1\n",
       "10473    -1\n",
       "6144     -1\n",
       "6954     -1\n",
       "         ..\n",
       "11118     C\n",
       "8304      C\n",
       "8313      C\n",
       "7055      C\n",
       "863       C\n",
       "Name: value, Length: 12384, dtype: object"
      ]
     },
     "execution_count": 11,
     "metadata": {},
     "output_type": "execute_result"
    }
   ],
   "source": [
    "import pandas as pd \n",
    "\n",
    "value = pd.read_csv(\"survey-2018-financial-year-provisional.csv\",squeeze = True,usecols=['value'])\n",
    "\n",
    "value.sort_values()  # ascending order e"
   ]
  },
  {
   "cell_type": "code",
   "execution_count": 12,
   "metadata": {},
   "outputs": [
    {
     "data": {
      "text/plain": [
       "0    46134\n",
       "1        0\n",
       "2      279\n",
       "3     8187\n",
       "4     8866\n",
       "Name: value, dtype: object"
      ]
     },
     "execution_count": 12,
     "metadata": {},
     "output_type": "execute_result"
    }
   ],
   "source": [
    "import pandas as pd \n",
    "\n",
    "value =pd.read_csv(\"survey-2018-financial-year-provisional.csv\",squeeze = True,usecols=['value'])\n",
    "value.sort_values()\n",
    "value.head()  # Sort hoy ni"
   ]
  },
  {
   "cell_type": "code",
   "execution_count": 13,
   "metadata": {},
   "outputs": [
    {
     "data": {
      "text/plain": [
       "8925     -1\n",
       "12102    -1\n",
       "10473    -1\n",
       "6144     -1\n",
       "6954     -1\n",
       "Name: value, dtype: object"
      ]
     },
     "execution_count": 13,
     "metadata": {},
     "output_type": "execute_result"
    }
   ],
   "source": [
    "import pandas as pd \n",
    "value = pd.read_csv(\"survey-2018-financial-year-provisional.csv\",squeeze = True,usecols=['value'])\n",
    "value = value.sort_values()\n",
    "value.head()"
   ]
  },
  {
   "cell_type": "code",
   "execution_count": 14,
   "metadata": {},
   "outputs": [
    {
     "data": {
      "text/plain": [
       "863      C\n",
       "7055     C\n",
       "8313     C\n",
       "8304     C\n",
       "11118    C\n",
       "Name: value, dtype: object"
      ]
     },
     "execution_count": 14,
     "metadata": {},
     "output_type": "execute_result"
    }
   ],
   "source": [
    "import pandas as pd \n",
    "value = pd.read_csv(\"survey-2018-financial-year-provisional.csv\",squeeze = True,usecols=['value'])\n",
    "value = value.sort_values(ascending = False)\n",
    "value.head()"
   ]
  },
  {
   "cell_type": "code",
   "execution_count": 15,
   "metadata": {},
   "outputs": [
    {
     "data": {
      "text/html": [
       "<div>\n",
       "<style scoped>\n",
       "    .dataframe tbody tr th:only-of-type {\n",
       "        vertical-align: middle;\n",
       "    }\n",
       "\n",
       "    .dataframe tbody tr th {\n",
       "        vertical-align: top;\n",
       "    }\n",
       "\n",
       "    .dataframe thead th {\n",
       "        text-align: right;\n",
       "    }\n",
       "</style>\n",
       "<table border=\"1\" class=\"dataframe\">\n",
       "  <thead>\n",
       "    <tr style=\"text-align: right;\">\n",
       "      <th></th>\n",
       "      <th>year</th>\n",
       "      <th>industry_code_ANZSIC</th>\n",
       "      <th>industry_name_ANZSIC</th>\n",
       "      <th>rme_size_grp</th>\n",
       "      <th>variable</th>\n",
       "      <th>value</th>\n",
       "    </tr>\n",
       "  </thead>\n",
       "  <tbody>\n",
       "    <tr>\n",
       "      <th>0</th>\n",
       "      <td>2011</td>\n",
       "      <td>A</td>\n",
       "      <td>Agriculture, Forestry and Fishing</td>\n",
       "      <td>a_0</td>\n",
       "      <td>Activity unit</td>\n",
       "      <td>46134</td>\n",
       "    </tr>\n",
       "    <tr>\n",
       "      <th>1</th>\n",
       "      <td>2011</td>\n",
       "      <td>A</td>\n",
       "      <td>Agriculture, Forestry and Fishing</td>\n",
       "      <td>a_0</td>\n",
       "      <td>Rolling mean employees</td>\n",
       "      <td>0</td>\n",
       "    </tr>\n",
       "    <tr>\n",
       "      <th>2</th>\n",
       "      <td>2011</td>\n",
       "      <td>A</td>\n",
       "      <td>Agriculture, Forestry and Fishing</td>\n",
       "      <td>a_0</td>\n",
       "      <td>Salaries and wages paid</td>\n",
       "      <td>279</td>\n",
       "    </tr>\n",
       "    <tr>\n",
       "      <th>3</th>\n",
       "      <td>2011</td>\n",
       "      <td>A</td>\n",
       "      <td>Agriculture, Forestry and Fishing</td>\n",
       "      <td>a_0</td>\n",
       "      <td>Sales, government funding, grants and subsidies</td>\n",
       "      <td>8187</td>\n",
       "    </tr>\n",
       "    <tr>\n",
       "      <th>4</th>\n",
       "      <td>2011</td>\n",
       "      <td>A</td>\n",
       "      <td>Agriculture, Forestry and Fishing</td>\n",
       "      <td>a_0</td>\n",
       "      <td>Total income</td>\n",
       "      <td>8866</td>\n",
       "    </tr>\n",
       "    <tr>\n",
       "      <th>...</th>\n",
       "      <td>...</td>\n",
       "      <td>...</td>\n",
       "      <td>...</td>\n",
       "      <td>...</td>\n",
       "      <td>...</td>\n",
       "      <td>...</td>\n",
       "    </tr>\n",
       "    <tr>\n",
       "      <th>12379</th>\n",
       "      <td>2018</td>\n",
       "      <td>all</td>\n",
       "      <td>All Industries</td>\n",
       "      <td>j_Grand_Total</td>\n",
       "      <td>Total income</td>\n",
       "      <td>691859</td>\n",
       "    </tr>\n",
       "    <tr>\n",
       "      <th>12380</th>\n",
       "      <td>2018</td>\n",
       "      <td>all</td>\n",
       "      <td>All Industries</td>\n",
       "      <td>j_Grand_Total</td>\n",
       "      <td>Total expenditure</td>\n",
       "      <td>597623</td>\n",
       "    </tr>\n",
       "    <tr>\n",
       "      <th>12381</th>\n",
       "      <td>2018</td>\n",
       "      <td>all</td>\n",
       "      <td>All Industries</td>\n",
       "      <td>j_Grand_Total</td>\n",
       "      <td>Operating profit before tax</td>\n",
       "      <td>85574</td>\n",
       "    </tr>\n",
       "    <tr>\n",
       "      <th>12382</th>\n",
       "      <td>2018</td>\n",
       "      <td>all</td>\n",
       "      <td>All Industries</td>\n",
       "      <td>j_Grand_Total</td>\n",
       "      <td>Total assets</td>\n",
       "      <td>2068648</td>\n",
       "    </tr>\n",
       "    <tr>\n",
       "      <th>12383</th>\n",
       "      <td>2018</td>\n",
       "      <td>all</td>\n",
       "      <td>All Industries</td>\n",
       "      <td>j_Grand_Total</td>\n",
       "      <td>Fixed tangible assets</td>\n",
       "      <td>499274</td>\n",
       "    </tr>\n",
       "  </tbody>\n",
       "</table>\n",
       "<p>12384 rows × 6 columns</p>\n",
       "</div>"
      ],
      "text/plain": [
       "       year industry_code_ANZSIC               industry_name_ANZSIC  \\\n",
       "0      2011                    A  Agriculture, Forestry and Fishing   \n",
       "1      2011                    A  Agriculture, Forestry and Fishing   \n",
       "2      2011                    A  Agriculture, Forestry and Fishing   \n",
       "3      2011                    A  Agriculture, Forestry and Fishing   \n",
       "4      2011                    A  Agriculture, Forestry and Fishing   \n",
       "...     ...                  ...                                ...   \n",
       "12379  2018                  all                     All Industries   \n",
       "12380  2018                  all                     All Industries   \n",
       "12381  2018                  all                     All Industries   \n",
       "12382  2018                  all                     All Industries   \n",
       "12383  2018                  all                     All Industries   \n",
       "\n",
       "        rme_size_grp                                         variable    value  \n",
       "0                a_0                                    Activity unit    46134  \n",
       "1                a_0                           Rolling mean employees        0  \n",
       "2                a_0                          Salaries and wages paid      279  \n",
       "3                a_0  Sales, government funding, grants and subsidies     8187  \n",
       "4                a_0                                     Total income     8866  \n",
       "...              ...                                              ...      ...  \n",
       "12379  j_Grand_Total                                     Total income   691859  \n",
       "12380  j_Grand_Total                                Total expenditure   597623  \n",
       "12381  j_Grand_Total                      Operating profit before tax    85574  \n",
       "12382  j_Grand_Total                                     Total assets  2068648  \n",
       "12383  j_Grand_Total                            Fixed tangible assets   499274  \n",
       "\n",
       "[12384 rows x 6 columns]"
      ]
     },
     "execution_count": 15,
     "metadata": {},
     "output_type": "execute_result"
    }
   ],
   "source": [
    "import pandas as pd \n",
    "dataset = pd.read_csv(\"survey-2018-financial-year-provisional.csv\",squeeze = True)\n",
    "\n",
    "dataset.drop('unit',axis=1,inplace=False)   # ei khane 'unit' namer column ta ase ota == temporalily nai\n"
   ]
  },
  {
   "cell_type": "code",
   "execution_count": 16,
   "metadata": {},
   "outputs": [
    {
     "data": {
      "text/html": [
       "<div>\n",
       "<style scoped>\n",
       "    .dataframe tbody tr th:only-of-type {\n",
       "        vertical-align: middle;\n",
       "    }\n",
       "\n",
       "    .dataframe tbody tr th {\n",
       "        vertical-align: top;\n",
       "    }\n",
       "\n",
       "    .dataframe thead th {\n",
       "        text-align: right;\n",
       "    }\n",
       "</style>\n",
       "<table border=\"1\" class=\"dataframe\">\n",
       "  <thead>\n",
       "    <tr style=\"text-align: right;\">\n",
       "      <th></th>\n",
       "      <th>year</th>\n",
       "      <th>industry_code_ANZSIC</th>\n",
       "      <th>industry_name_ANZSIC</th>\n",
       "      <th>rme_size_grp</th>\n",
       "      <th>variable</th>\n",
       "      <th>value</th>\n",
       "      <th>unit</th>\n",
       "    </tr>\n",
       "  </thead>\n",
       "  <tbody>\n",
       "    <tr>\n",
       "      <th>0</th>\n",
       "      <td>2011</td>\n",
       "      <td>A</td>\n",
       "      <td>Agriculture, Forestry and Fishing</td>\n",
       "      <td>a_0</td>\n",
       "      <td>Activity unit</td>\n",
       "      <td>46134</td>\n",
       "      <td>COUNT</td>\n",
       "    </tr>\n",
       "    <tr>\n",
       "      <th>1</th>\n",
       "      <td>2011</td>\n",
       "      <td>A</td>\n",
       "      <td>Agriculture, Forestry and Fishing</td>\n",
       "      <td>a_0</td>\n",
       "      <td>Rolling mean employees</td>\n",
       "      <td>0</td>\n",
       "      <td>COUNT</td>\n",
       "    </tr>\n",
       "    <tr>\n",
       "      <th>2</th>\n",
       "      <td>2011</td>\n",
       "      <td>A</td>\n",
       "      <td>Agriculture, Forestry and Fishing</td>\n",
       "      <td>a_0</td>\n",
       "      <td>Salaries and wages paid</td>\n",
       "      <td>279</td>\n",
       "      <td>DOLLARS(millions)</td>\n",
       "    </tr>\n",
       "    <tr>\n",
       "      <th>3</th>\n",
       "      <td>2011</td>\n",
       "      <td>A</td>\n",
       "      <td>Agriculture, Forestry and Fishing</td>\n",
       "      <td>a_0</td>\n",
       "      <td>Sales, government funding, grants and subsidies</td>\n",
       "      <td>8187</td>\n",
       "      <td>DOLLARS(millions)</td>\n",
       "    </tr>\n",
       "    <tr>\n",
       "      <th>4</th>\n",
       "      <td>2011</td>\n",
       "      <td>A</td>\n",
       "      <td>Agriculture, Forestry and Fishing</td>\n",
       "      <td>a_0</td>\n",
       "      <td>Total income</td>\n",
       "      <td>8866</td>\n",
       "      <td>DOLLARS(millions)</td>\n",
       "    </tr>\n",
       "  </tbody>\n",
       "</table>\n",
       "</div>"
      ],
      "text/plain": [
       "   year industry_code_ANZSIC               industry_name_ANZSIC rme_size_grp  \\\n",
       "0  2011                    A  Agriculture, Forestry and Fishing          a_0   \n",
       "1  2011                    A  Agriculture, Forestry and Fishing          a_0   \n",
       "2  2011                    A  Agriculture, Forestry and Fishing          a_0   \n",
       "3  2011                    A  Agriculture, Forestry and Fishing          a_0   \n",
       "4  2011                    A  Agriculture, Forestry and Fishing          a_0   \n",
       "\n",
       "                                          variable  value               unit  \n",
       "0                                    Activity unit  46134              COUNT  \n",
       "1                           Rolling mean employees      0              COUNT  \n",
       "2                          Salaries and wages paid    279  DOLLARS(millions)  \n",
       "3  Sales, government funding, grants and subsidies   8187  DOLLARS(millions)  \n",
       "4                                     Total income   8866  DOLLARS(millions)  "
      ]
     },
     "execution_count": 16,
     "metadata": {},
     "output_type": "execute_result"
    }
   ],
   "source": [
    "import pandas as pd \n",
    "dataset = pd.read_csv(\"survey-2018-financial-year-provisional.csv\",squeeze = True)\n",
    "\n",
    "dataset.head()   # drop permanent hoy ni tai abr show kortese\n"
   ]
  },
  {
   "cell_type": "code",
   "execution_count": 17,
   "metadata": {},
   "outputs": [],
   "source": [
    "import pandas as pd \n",
    "dataset = pd.read_csv(\"survey-2018-financial-year-provisional.csv\",squeeze = True)\n",
    "\n",
    "dataset.drop('unit',axis=1,inplace=True)   # ei khane 'unit' namer column ta ase ota Permanent drop hoiya jabe\n"
   ]
  },
  {
   "cell_type": "code",
   "execution_count": 18,
   "metadata": {},
   "outputs": [
    {
     "data": {
      "text/html": [
       "<div>\n",
       "<style scoped>\n",
       "    .dataframe tbody tr th:only-of-type {\n",
       "        vertical-align: middle;\n",
       "    }\n",
       "\n",
       "    .dataframe tbody tr th {\n",
       "        vertical-align: top;\n",
       "    }\n",
       "\n",
       "    .dataframe thead th {\n",
       "        text-align: right;\n",
       "    }\n",
       "</style>\n",
       "<table border=\"1\" class=\"dataframe\">\n",
       "  <thead>\n",
       "    <tr style=\"text-align: right;\">\n",
       "      <th></th>\n",
       "      <th>year</th>\n",
       "      <th>industry_code_ANZSIC</th>\n",
       "      <th>industry_name_ANZSIC</th>\n",
       "      <th>rme_size_grp</th>\n",
       "      <th>variable</th>\n",
       "      <th>value</th>\n",
       "    </tr>\n",
       "  </thead>\n",
       "  <tbody>\n",
       "    <tr>\n",
       "      <th>0</th>\n",
       "      <td>2011</td>\n",
       "      <td>A</td>\n",
       "      <td>Agriculture, Forestry and Fishing</td>\n",
       "      <td>a_0</td>\n",
       "      <td>Activity unit</td>\n",
       "      <td>46134</td>\n",
       "    </tr>\n",
       "    <tr>\n",
       "      <th>1</th>\n",
       "      <td>2011</td>\n",
       "      <td>A</td>\n",
       "      <td>Agriculture, Forestry and Fishing</td>\n",
       "      <td>a_0</td>\n",
       "      <td>Rolling mean employees</td>\n",
       "      <td>0</td>\n",
       "    </tr>\n",
       "    <tr>\n",
       "      <th>2</th>\n",
       "      <td>2011</td>\n",
       "      <td>A</td>\n",
       "      <td>Agriculture, Forestry and Fishing</td>\n",
       "      <td>a_0</td>\n",
       "      <td>Salaries and wages paid</td>\n",
       "      <td>279</td>\n",
       "    </tr>\n",
       "    <tr>\n",
       "      <th>3</th>\n",
       "      <td>2011</td>\n",
       "      <td>A</td>\n",
       "      <td>Agriculture, Forestry and Fishing</td>\n",
       "      <td>a_0</td>\n",
       "      <td>Sales, government funding, grants and subsidies</td>\n",
       "      <td>8187</td>\n",
       "    </tr>\n",
       "    <tr>\n",
       "      <th>4</th>\n",
       "      <td>2011</td>\n",
       "      <td>A</td>\n",
       "      <td>Agriculture, Forestry and Fishing</td>\n",
       "      <td>a_0</td>\n",
       "      <td>Total income</td>\n",
       "      <td>8866</td>\n",
       "    </tr>\n",
       "  </tbody>\n",
       "</table>\n",
       "</div>"
      ],
      "text/plain": [
       "   year industry_code_ANZSIC               industry_name_ANZSIC rme_size_grp  \\\n",
       "0  2011                    A  Agriculture, Forestry and Fishing          a_0   \n",
       "1  2011                    A  Agriculture, Forestry and Fishing          a_0   \n",
       "2  2011                    A  Agriculture, Forestry and Fishing          a_0   \n",
       "3  2011                    A  Agriculture, Forestry and Fishing          a_0   \n",
       "4  2011                    A  Agriculture, Forestry and Fishing          a_0   \n",
       "\n",
       "                                          variable  value  \n",
       "0                                    Activity unit  46134  \n",
       "1                           Rolling mean employees      0  \n",
       "2                          Salaries and wages paid    279  \n",
       "3  Sales, government funding, grants and subsidies   8187  \n",
       "4                                     Total income   8866  "
      ]
     },
     "execution_count": 18,
     "metadata": {},
     "output_type": "execute_result"
    }
   ],
   "source": [
    "dataset.head()   # Dataset er 'unit' parmanently gone now"
   ]
  }
 ],
 "metadata": {
  "kernelspec": {
   "display_name": "Python 3",
   "language": "python",
   "name": "python3"
  },
  "language_info": {
   "codemirror_mode": {
    "name": "ipython",
    "version": 3
   },
   "file_extension": ".py",
   "mimetype": "text/x-python",
   "name": "python",
   "nbconvert_exporter": "python",
   "pygments_lexer": "ipython3",
   "version": "3.7.9"
  }
 },
 "nbformat": 4,
 "nbformat_minor": 4
}
