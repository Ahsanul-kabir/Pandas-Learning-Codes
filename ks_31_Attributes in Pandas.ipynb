{
 "cells": [
  {
   "cell_type": "code",
   "execution_count": 1,
   "metadata": {},
   "outputs": [
    {
     "data": {
      "text/plain": [
       "0        Smart\n",
       "1     Handsome\n",
       "2     Charming\n",
       "3    Brilliant\n",
       "4       Hamble\n",
       "dtype: object"
      ]
     },
     "execution_count": 1,
     "metadata": {},
     "output_type": "execute_result"
    }
   ],
   "source": [
    "# Information Access from Series eta Attributes er kaj\n",
    "\n",
    "import pandas as pd\n",
    "Men = ['Smart','Handsome','Charming','Brilliant','Hamble']\n",
    "s = pd.Series(Men)\n",
    "\n",
    "s\n",
    "\n",
    "# object mane String type er value"
   ]
  },
  {
   "cell_type": "code",
   "execution_count": 11,
   "metadata": {},
   "outputs": [
    {
     "data": {
      "text/plain": [
       "array(['Smart', 'Handsome', 'Charming', 'Brilliant', 'Hamble'],\n",
       "      dtype=object)"
      ]
     },
     "execution_count": 11,
     "metadata": {},
     "output_type": "execute_result"
    }
   ],
   "source": [
    "# Attributes kaj holo information ke extract kora\n",
    "\n",
    "import pandas as pd\n",
    "Men = ['Smart','Handsome','Charming','Brilliant','Hamble']\n",
    "s = pd.Series(Men)\n",
    "\n",
    "\n",
    "s.values         # Attributes er bracket lage na but Method er Bracket lage nah"
   ]
  },
  {
   "cell_type": "code",
   "execution_count": 10,
   "metadata": {},
   "outputs": [
    {
     "data": {
      "text/plain": [
       "RangeIndex(start=0, stop=5, step=1)"
      ]
     },
     "execution_count": 10,
     "metadata": {},
     "output_type": "execute_result"
    }
   ],
   "source": [
    "import pandas as pd\n",
    "Men = ['Smart','Handsome','Charming','Brilliant','Hamble']\n",
    "s = pd.Series(Men)\n",
    "\n",
    "\n",
    "s.index\n",
    "# step == kon difference e data Print hoitese"
   ]
  },
  {
   "cell_type": "code",
   "execution_count": 9,
   "metadata": {},
   "outputs": [
    {
     "data": {
      "text/plain": [
       "dtype('O')"
      ]
     },
     "execution_count": 9,
     "metadata": {},
     "output_type": "execute_result"
    }
   ],
   "source": [
    "import pandas as pd\n",
    "Men = ['Smart','Handsome','Charming','Brilliant','Hamble']\n",
    "s = pd.Series(Men)\n",
    "\n",
    "\n",
    "s.dtype\n",
    "# 'O' mane \"object\" === String"
   ]
  }
 ],
 "metadata": {
  "kernelspec": {
   "display_name": "Python 3",
   "language": "python",
   "name": "python3"
  },
  "language_info": {
   "codemirror_mode": {
    "name": "ipython",
    "version": 3
   },
   "file_extension": ".py",
   "mimetype": "text/x-python",
   "name": "python",
   "nbconvert_exporter": "python",
   "pygments_lexer": "ipython3",
   "version": "3.7.9"
  }
 },
 "nbformat": 4,
 "nbformat_minor": 4
}
