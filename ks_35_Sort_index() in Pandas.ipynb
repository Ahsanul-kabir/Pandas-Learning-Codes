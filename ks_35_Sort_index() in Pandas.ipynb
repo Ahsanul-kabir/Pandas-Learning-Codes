{
 "cells": [
  {
   "cell_type": "code",
   "execution_count": 7,
   "metadata": {},
   "outputs": [
    {
     "data": {
      "text/plain": [
       "0    New Orleans\n",
       "1       Brighton\n",
       "2     Bridgeport\n",
       "3      Anchorage\n",
       "Name: city, dtype: object"
      ]
     },
     "execution_count": 7,
     "metadata": {},
     "output_type": "execute_result"
    }
   ],
   "source": [
    "import pandas as pd\n",
    "\n",
    "dataset = pd.read_csv(\"present_us_infoemation.csv\",squeeze=True,usecols=['city'])\n",
    "dataset.head(4)"
   ]
  },
  {
   "cell_type": "code",
   "execution_count": 9,
   "metadata": {},
   "outputs": [
    {
     "data": {
      "text/plain": [
       "308         York\n",
       "226      Yonkers\n",
       "294    Worcester\n",
       "108    Worcester\n",
       "397    Worcester\n",
       "         ...    \n",
       "314      Abilene\n",
       "476      Abilene\n",
       "39       Abilene\n",
       "490      Abilene\n",
       "276     Aberdeen\n",
       "Name: city, Length: 500, dtype: object"
      ]
     },
     "execution_count": 9,
     "metadata": {},
     "output_type": "execute_result"
    }
   ],
   "source": [
    "import pandas as pd\n",
    "\n",
    "dataset = pd.read_csv(\"present_us_infoemation.csv\",squeeze=True,usecols=['city'])\n",
    "dataset.sort_values(ascending=False)  # mane ulta order e astese"
   ]
  },
  {
   "cell_type": "code",
   "execution_count": 11,
   "metadata": {},
   "outputs": [
    {
     "data": {
      "text/plain": [
       "308         York\n",
       "226      Yonkers\n",
       "294    Worcester\n",
       "Name: city, dtype: object"
      ]
     },
     "execution_count": 11,
     "metadata": {},
     "output_type": "execute_result"
    }
   ],
   "source": [
    "import pandas as pd\n",
    "\n",
    "dataset = pd.read_csv(\"present_us_infoemation.csv\",squeeze=True,usecols=['city'])\n",
    "dataset.sort_values(ascending=False,inplace=True)\n",
    "\n",
    "dataset.head(3)"
   ]
  },
  {
   "cell_type": "code",
   "execution_count": 13,
   "metadata": {},
   "outputs": [
    {
     "data": {
      "text/plain": [
       "0      New Orleans\n",
       "1         Brighton\n",
       "2       Bridgeport\n",
       "3        Anchorage\n",
       "4         Hamilton\n",
       "          ...     \n",
       "495          Boise\n",
       "496        Elkhart\n",
       "497       Alliance\n",
       "498        Seattle\n",
       "499        Orlando\n",
       "Name: city, Length: 500, dtype: object"
      ]
     },
     "execution_count": 13,
     "metadata": {},
     "output_type": "execute_result"
    }
   ],
   "source": [
    "import pandas as pd\n",
    "\n",
    "dataset = pd.read_csv(\"present_us_infoemation.csv\",squeeze=True,usecols=['city'])\n",
    "dataset.sort_index()"
   ]
  },
  {
   "cell_type": "code",
   "execution_count": 2,
   "metadata": {},
   "outputs": [
    {
     "data": {
      "text/plain": [
       "499        Orlando\n",
       "498        Seattle\n",
       "497       Alliance\n",
       "496        Elkhart\n",
       "495          Boise\n",
       "          ...     \n",
       "4         Hamilton\n",
       "3        Anchorage\n",
       "2       Bridgeport\n",
       "1         Brighton\n",
       "0      New Orleans\n",
       "Name: city, Length: 500, dtype: object"
      ]
     },
     "execution_count": 2,
     "metadata": {},
     "output_type": "execute_result"
    }
   ],
   "source": [
    "import pandas as pd\n",
    "\n",
    "dataset = pd.read_csv(\"present_us_infoemation.csv\",squeeze=True,usecols=['city'])\n",
    "dataset.sort_index(ascending=False)"
   ]
  },
  {
   "cell_type": "code",
   "execution_count": 3,
   "metadata": {},
   "outputs": [
    {
     "data": {
      "text/plain": [
       "0    New Orleans\n",
       "1       Brighton\n",
       "2     Bridgeport\n",
       "3      Anchorage\n",
       "4       Hamilton\n",
       "Name: city, dtype: object"
      ]
     },
     "execution_count": 3,
     "metadata": {},
     "output_type": "execute_result"
    }
   ],
   "source": [
    "dataset.head()"
   ]
  },
  {
   "cell_type": "code",
   "execution_count": 15,
   "metadata": {},
   "outputs": [],
   "source": [
    "import pandas as pd\n",
    "\n",
    "dataset = pd.read_csv(\"present_us_infoemation.csv\",squeeze=True,usecols=['city'])\n",
    "dataset.sort_index(ascending=False,inplace=True)"
   ]
  },
  {
   "cell_type": "code",
   "execution_count": 16,
   "metadata": {},
   "outputs": [
    {
     "data": {
      "text/plain": [
       "499     Orlando\n",
       "498     Seattle\n",
       "497    Alliance\n",
       "496     Elkhart\n",
       "495       Boise\n",
       "Name: city, dtype: object"
      ]
     },
     "execution_count": 16,
     "metadata": {},
     "output_type": "execute_result"
    }
   ],
   "source": [
    "dataset.head()"
   ]
  }
 ],
 "metadata": {
  "kernelspec": {
   "display_name": "Python 3",
   "language": "python",
   "name": "python3"
  },
  "language_info": {
   "codemirror_mode": {
    "name": "ipython",
    "version": 3
   },
   "file_extension": ".py",
   "mimetype": "text/x-python",
   "name": "python",
   "nbconvert_exporter": "python",
   "pygments_lexer": "ipython3",
   "version": "3.7.9"
  }
 },
 "nbformat": 4,
 "nbformat_minor": 4
}
