{
 "cells": [
  {
   "cell_type": "code",
   "execution_count": 1,
   "metadata": {},
   "outputs": [
    {
     "data": {
      "text/plain": [
       "0         Orleans\n",
       "1      Livingston\n",
       "2      Gloucester\n",
       "3       Anchorage\n",
       "4          Butler\n",
       "          ...    \n",
       "495           Ada\n",
       "496       Elkhart\n",
       "497     Box Butte\n",
       "498          King\n",
       "499        Orange\n",
       "Name: county, Length: 500, dtype: object"
      ]
     },
     "execution_count": 1,
     "metadata": {},
     "output_type": "execute_result"
    }
   ],
   "source": [
    "import pandas as pd\n",
    "\n",
    "dataset = pd.read_csv('present_us_infoemation.csv',squeeze=True,usecols=['county'])\n",
    "dataset"
   ]
  },
  {
   "cell_type": "code",
   "execution_count": 3,
   "metadata": {},
   "outputs": [
    {
     "data": {
      "text/plain": [
       "'Montgomery'"
      ]
     },
     "execution_count": 3,
     "metadata": {},
     "output_type": "execute_result"
    }
   ],
   "source": [
    "dataset[10]"
   ]
  },
  {
   "cell_type": "code",
   "execution_count": 14,
   "metadata": {},
   "outputs": [
    {
     "data": {
      "text/plain": [
       "100      Boulder\n",
       "200      Tarrant\n",
       "303    Riverside\n",
       "Name: county, dtype: object"
      ]
     },
     "execution_count": 14,
     "metadata": {},
     "output_type": "execute_result"
    }
   ],
   "source": [
    "dataset[[100,200,303]]"
   ]
  },
  {
   "cell_type": "code",
   "execution_count": 15,
   "metadata": {},
   "outputs": [
    {
     "data": {
      "text/plain": [
       "70     San Francisco\n",
       "71            Orange\n",
       "72         San Mateo\n",
       "73      Contra Costa\n",
       "74           Madison\n",
       "75          Allegany\n",
       "76    Baltimore City\n",
       "77             Essex\n",
       "78              Cook\n",
       "79             Essex\n",
       "80             Curry\n",
       "81          Richmond\n",
       "82             Duval\n",
       "83           Alameda\n",
       "84          Cuyahoga\n",
       "85           Tarrant\n",
       "86       Los Angeles\n",
       "87              Cook\n",
       "88            Summit\n",
       "89      Philadelphia\n",
       "Name: county, dtype: object"
      ]
     },
     "execution_count": 15,
     "metadata": {},
     "output_type": "execute_result"
    }
   ],
   "source": [
    "dataset[70:90]"
   ]
  },
  {
   "cell_type": "code",
   "execution_count": 16,
   "metadata": {},
   "outputs": [
    {
     "data": {
      "text/plain": [
       "0            Orleans\n",
       "1         Livingston\n",
       "2         Gloucester\n",
       "3          Anchorage\n",
       "4             Butler\n",
       "5            Ashland\n",
       "6               Cook\n",
       "7        Santa Clara\n",
       "8          Minnehaha\n",
       "9     Baltimore City\n",
       "10        Montgomery\n",
       "11           Suffolk\n",
       "12       Los Angeles\n",
       "13            Geauga\n",
       "14              Webb\n",
       "15          Maricopa\n",
       "16            Warren\n",
       "17         Milwaukee\n",
       "18             Wayne\n",
       "19         Winnebago\n",
       "Name: county, dtype: object"
      ]
     },
     "execution_count": 16,
     "metadata": {},
     "output_type": "execute_result"
    }
   ],
   "source": [
    "dataset[:20]"
   ]
  },
  {
   "cell_type": "code",
   "execution_count": 17,
   "metadata": {},
   "outputs": [
    {
     "data": {
      "text/plain": [
       "490               Dickinson\n",
       "491                  Placer\n",
       "492                 Volusia\n",
       "493    District of Columbia\n",
       "494                   Marin\n",
       "495                     Ada\n",
       "496                 Elkhart\n",
       "497               Box Butte\n",
       "498                    King\n",
       "499                  Orange\n",
       "Name: county, dtype: object"
      ]
     },
     "execution_count": 17,
     "metadata": {},
     "output_type": "execute_result"
    }
   ],
   "source": [
    "dataset[-10:]"
   ]
  },
  {
   "cell_type": "code",
   "execution_count": 18,
   "metadata": {},
   "outputs": [
    {
     "data": {
      "text/plain": [
       "470       New York\n",
       "471         Nassau\n",
       "472         Citrus\n",
       "473        Hancock\n",
       "474       Buchanan\n",
       "475          Hinds\n",
       "476         Taylor\n",
       "477    Santa Clara\n",
       "478         Camden\n",
       "479        Alameda\n",
       "480       Seminole\n",
       "481        Laramie\n",
       "482         Nassau\n",
       "483           Dane\n",
       "484         Hudson\n",
       "485     Lackawanna\n",
       "486      San Diego\n",
       "487      Riverside\n",
       "488       Atlantic\n",
       "489     Providence\n",
       "Name: county, dtype: object"
      ]
     },
     "execution_count": 18,
     "metadata": {},
     "output_type": "execute_result"
    }
   ],
   "source": [
    "dataset[-30:-10]"
   ]
  }
 ],
 "metadata": {
  "kernelspec": {
   "display_name": "Python 3",
   "language": "python",
   "name": "python3"
  },
  "language_info": {
   "codemirror_mode": {
    "name": "ipython",
    "version": 3
   },
   "file_extension": ".py",
   "mimetype": "text/x-python",
   "name": "python",
   "nbconvert_exporter": "python",
   "pygments_lexer": "ipython3",
   "version": "3.7.9"
  }
 },
 "nbformat": 4,
 "nbformat_minor": 4
}
